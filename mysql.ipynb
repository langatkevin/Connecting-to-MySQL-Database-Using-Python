{
 "cells": [
  {
   "cell_type": "code",
   "execution_count": 1,
   "metadata": {},
   "outputs": [
    {
     "name": "stdout",
     "output_type": "stream",
     "text": [
      "Requirement already satisfied: mysql-connector-python in c:\\users\\langat kevin\\appdata\\local\\programs\\python\\python311\\lib\\site-packages (8.3.0)\n",
      "Note: you may need to restart the kernel to use updated packages.\n",
      "Requirement already satisfied: mysql-connector-python in c:\\users\\langat kevin\\appdata\\local\\programs\\python\\python311\\lib\\site-packages (8.3.0)Note: you may need to restart the kernel to use updated packages.\n",
      "\n",
      "Requirement already satisfied: mysql-connector-python-rf in c:\\users\\langat kevin\\appdata\\local\\programs\\python\\python311\\lib\\site-packages (2.2.2)\n",
      "Note: you may need to restart the kernel to use updated packages.\n"
     ]
    }
   ],
   "source": [
    "%pip install mysql-connector-python\n",
    "%pip install --upgrade mysql-connector-python\n",
    "%pip install mysql-connector-python-rf"
   ]
  },
  {
   "cell_type": "markdown",
   "metadata": {},
   "source": [
    "## Connect to MySQL using mysql.connector"
   ]
  },
  {
   "cell_type": "code",
   "execution_count": 4,
   "metadata": {},
   "outputs": [],
   "source": [
    "import mysql.connector\n",
    "\n",
    "db = mysql.connector.connect(\n",
    "    host=\"localhost\",\n",
    "    user=\"root\",\n",
    "    passwd=\"mypass\",\n",
    "    auth_plugin='mysql_native_password',\n",
    "    database = \"testdatabase\"\n",
    ")\n",
    "\n",
    "my_cursor = db.cursor()"
   ]
  },
  {
   "cell_type": "markdown",
   "metadata": {},
   "source": [
    "## Creating a table"
   ]
  },
  {
   "cell_type": "code",
   "execution_count": 5,
   "metadata": {},
   "outputs": [],
   "source": [
    "my_cursor.execute(\"CREATE TABLE Person(name VARCHAR(50), age smallint UNSIGNED , PersonId int PRIMARY KEY AUTO_INCREMENT)\")"
   ]
  },
  {
   "cell_type": "markdown",
   "metadata": {},
   "source": [
    "## Check whether the table is created"
   ]
  },
  {
   "cell_type": "code",
   "execution_count": 6,
   "metadata": {},
   "outputs": [
    {
     "name": "stdout",
     "output_type": "stream",
     "text": [
      "('name', b'varchar(50)', 'YES', bytearray(b''), None, '')\n",
      "('age', b'smallint unsigned', 'YES', bytearray(b''), None, '')\n",
      "('PersonId', b'int', 'NO', bytearray(b'PRI'), None, 'auto_increment')\n"
     ]
    }
   ],
   "source": [
    "my_cursor.execute(\"DESCRIBE Person\")\n",
    "\n",
    "for x in my_cursor:\n",
    "    print(x)"
   ]
  },
  {
   "cell_type": "markdown",
   "metadata": {},
   "source": [
    "## Insert values to the table"
   ]
  },
  {
   "cell_type": "code",
   "execution_count": 14,
   "metadata": {},
   "outputs": [],
   "source": [
    "my_cursor.execute(\"INSERT INTO Person (name, age) VALUES (%s,%s)\", (\"Jane\", 45))\n",
    "db.commit()"
   ]
  },
  {
   "cell_type": "markdown",
   "metadata": {},
   "source": [
    "## SELECT Command"
   ]
  },
  {
   "cell_type": "code",
   "execution_count": 16,
   "metadata": {},
   "outputs": [
    {
     "name": "stdout",
     "output_type": "stream",
     "text": [
      "('Joey', 55, 4)\n",
      "('Carol', 56, 5)\n"
     ]
    }
   ],
   "source": [
    "my_cursor.execute(\"SELECT * FROM Person WHERE age > 50\")\n",
    "\n",
    "for x in my_cursor:\n",
    "    print(x)"
   ]
  },
  {
   "cell_type": "markdown",
   "metadata": {},
   "source": [
    "## Modify Table"
   ]
  },
  {
   "cell_type": "code",
   "execution_count": 17,
   "metadata": {},
   "outputs": [
    {
     "name": "stdout",
     "output_type": "stream",
     "text": [
      "('name', b'varchar(50)', 'YES', bytearray(b''), None, '')\n",
      "('age', b'smallint unsigned', 'YES', bytearray(b''), None, '')\n",
      "('PersonId', b'int', 'NO', bytearray(b'PRI'), None, 'auto_increment')\n",
      "('food', b'varchar(50)', 'NO', bytearray(b''), None, '')\n"
     ]
    }
   ],
   "source": [
    "my_cursor.execute(\"ALTER TABLE Person ADD COLUMN food VARCHAR(50) NOT NULL\")\n",
    "\n",
    "my_cursor.execute(\"DESCRIBE Person\")\n",
    "for x in my_cursor:\n",
    "    print(x)\n"
   ]
  },
  {
   "cell_type": "markdown",
   "metadata": {},
   "source": [
    "## Change Column name"
   ]
  },
  {
   "cell_type": "code",
   "execution_count": 18,
   "metadata": {},
   "outputs": [
    {
     "name": "stdout",
     "output_type": "stream",
     "text": [
      "('name', b'varchar(50)', 'YES', bytearray(b''), None, '')\n",
      "('age', b'smallint unsigned', 'YES', bytearray(b''), None, '')\n",
      "('PersonId', b'int', 'NO', bytearray(b'PRI'), None, 'auto_increment')\n",
      "('car', b'varchar(50)', 'NO', bytearray(b''), None, '')\n"
     ]
    }
   ],
   "source": [
    "my_cursor.execute(\"ALTER TABLE Person CHANGE food car VARCHAR(50) NOT NULL\")\n",
    "\n",
    "my_cursor.execute(\"DESCRIBE Person\")\n",
    "for x in my_cursor:\n",
    "    print(x)"
   ]
  },
  {
   "cell_type": "markdown",
   "metadata": {},
   "source": [
    "## Use Python comnand to create a table"
   ]
  },
  {
   "cell_type": "code",
   "execution_count": 12,
   "metadata": {},
   "outputs": [],
   "source": [
    "def create_table(connection, query):\n",
    "    cursor = connection.cursor()\n",
    "    try:\n",
    "        cursor.execute(query)\n",
    "        print(\"Table created successfully\")\n",
    "    except Error as err:\n",
    "        print(f\"Error: '{err}'\")"
   ]
  },
  {
   "cell_type": "code",
   "execution_count": 13,
   "metadata": {},
   "outputs": [],
   "source": [
    "def inser_data(connection, query, data):\n",
    "    cursor = connection.cursor()\n",
    "    try:\n",
    "        cursor.execute(query, data)\n",
    "        connection.commit()\n",
    "        print(\"Data inserted successfully\")\n",
    "    except Error as err:\n",
    "        print(f\"Error: '{err}'\")"
   ]
  },
  {
   "cell_type": "code",
   "execution_count": 14,
   "metadata": {},
   "outputs": [],
   "source": [
    "def query_data(connection, query):\n",
    "    cursor = connection.cursor()\n",
    "    try:\n",
    "        cursor.execute(query)\n",
    "        result = cursor.fetchall()\n",
    "        return result\n",
    "    except Error as err:\n",
    "        print(f\"Error '{err}'\")"
   ]
  },
  {
   "cell_type": "markdown",
   "metadata": {},
   "source": [
    "## Database connection parameters"
   ]
  },
  {
   "cell_type": "code",
   "execution_count": 15,
   "metadata": {},
   "outputs": [
    {
     "ename": "NameError",
     "evalue": "name 'mypass' is not defined",
     "output_type": "error",
     "traceback": [
      "\u001b[1;31m---------------------------------------------------------------------------\u001b[0m",
      "\u001b[1;31mNameError\u001b[0m                                 Traceback (most recent call last)",
      "Cell \u001b[1;32mIn[15], line 7\u001b[0m\n\u001b[0;32m      4\u001b[0m password \u001b[38;5;241m=\u001b[39m \u001b[38;5;124m\"\u001b[39m\u001b[38;5;124mmypass\u001b[39m\u001b[38;5;124m\"\u001b[39m\n\u001b[0;32m      6\u001b[0m \u001b[38;5;66;03m#Establish a connection\u001b[39;00m\n\u001b[1;32m----> 7\u001b[0m conn \u001b[38;5;241m=\u001b[39m \u001b[43mcreate_server_connection\u001b[49m\u001b[43m(\u001b[49m\u001b[43mhost\u001b[49m\u001b[43m,\u001b[49m\u001b[43m \u001b[49m\u001b[43muser\u001b[49m\u001b[43m,\u001b[49m\u001b[43m \u001b[49m\u001b[43mpassword\u001b[49m\u001b[43m,\u001b[49m\u001b[43m \u001b[49m\u001b[43mdatabase\u001b[49m\u001b[43m)\u001b[49m\n\u001b[0;32m      9\u001b[0m \u001b[38;5;66;03m#SQL to create a table\u001b[39;00m\n\u001b[0;32m     10\u001b[0m create_table_query \u001b[38;5;241m=\u001b[39m \u001b[38;5;124m\"\"\"\u001b[39m\n\u001b[0;32m     11\u001b[0m \u001b[38;5;124mCREATE TABLE IF NOT EXISTS employees(\u001b[39m\n\u001b[0;32m     12\u001b[0m \u001b[38;5;124m    id INT AUTO_INCREMENT PRIMARY KEY,\u001b[39m\n\u001b[1;32m   (...)\u001b[0m\n\u001b[0;32m     16\u001b[0m \u001b[38;5;124m);\u001b[39m\n\u001b[0;32m     17\u001b[0m \u001b[38;5;124m\"\"\"\u001b[39m\n",
      "Cell \u001b[1;32mIn[11], line 10\u001b[0m, in \u001b[0;36mcreate_server_connection\u001b[1;34m(host, user, password, database)\u001b[0m\n\u001b[0;32m      5\u001b[0m connection \u001b[38;5;241m=\u001b[39m \u001b[38;5;28;01mNone\u001b[39;00m\n\u001b[0;32m      6\u001b[0m \u001b[38;5;28;01mtry\u001b[39;00m:\n\u001b[0;32m      7\u001b[0m     connection \u001b[38;5;241m=\u001b[39m mysql\u001b[38;5;241m.\u001b[39mconnector\u001b[38;5;241m.\u001b[39mconnect(\n\u001b[0;32m      8\u001b[0m         host\u001b[38;5;241m=\u001b[39mhost,  \u001b[38;5;66;03m# Use the passed host argument\u001b[39;00m\n\u001b[0;32m      9\u001b[0m         user\u001b[38;5;241m=\u001b[39muser,\n\u001b[1;32m---> 10\u001b[0m         password\u001b[38;5;241m=\u001b[39m\u001b[43mmypass\u001b[49m,\n\u001b[0;32m     11\u001b[0m         database\u001b[38;5;241m=\u001b[39mdatabase\n\u001b[0;32m     12\u001b[0m     )\n\u001b[0;32m     13\u001b[0m     \u001b[38;5;28mprint\u001b[39m(\u001b[38;5;124m\"\u001b[39m\u001b[38;5;124mMySQL Database connection successful\u001b[39m\u001b[38;5;124m\"\u001b[39m)\n\u001b[0;32m     14\u001b[0m \u001b[38;5;28;01mexcept\u001b[39;00m Error \u001b[38;5;28;01mas\u001b[39;00m err:\n",
      "\u001b[1;31mNameError\u001b[0m: name 'mypass' is not defined"
     ]
    }
   ],
   "source": [
    "host = \"localhost\"\n",
    "database = \"db\"\n",
    "user = \"user\"\n",
    "password = \"mypass\"\n",
    "\n",
    "#Establish a connection\n",
    "conn = create_server_connection(host, user, password, database)\n",
    "\n",
    "#SQL to create a table\n",
    "create_table_query = \"\"\"\n",
    "CREATE TABLE IF NOT EXISTS employees(\n",
    "    id INT AUTO_INCREMENT PRIMARY KEY,\n",
    "    name VARCHAR(100),\n",
    "    position VARCHAR(100),\n",
    "    start_date DATE\n",
    ");\n",
    "\"\"\"\n",
    "\n",
    "#Create a table\n",
    "create_table(conn, create_table_query)"
   ]
  },
  {
   "cell_type": "code",
   "execution_count": null,
   "metadata": {},
   "outputs": [
    {
     "ename": "NameError",
     "evalue": "name 'conn' is not defined",
     "output_type": "error",
     "traceback": [
      "\u001b[1;31m---------------------------------------------------------------------------\u001b[0m",
      "\u001b[1;31mNameError\u001b[0m                                 Traceback (most recent call last)",
      "Cell \u001b[1;32mIn[8], line 9\u001b[0m\n\u001b[0;32m      6\u001b[0m employee_data \u001b[38;5;241m=\u001b[39m (\u001b[38;5;124m\"\u001b[39m\u001b[38;5;124mLangat Kevin\u001b[39m\u001b[38;5;124m\"\u001b[39m, \u001b[38;5;124m\"\u001b[39m\u001b[38;5;124mData Engineer\u001b[39m\u001b[38;5;124m\"\u001b[39m, \u001b[38;5;124m\"\u001b[39m\u001b[38;5;124m2022-09-19\u001b[39m\u001b[38;5;124m\"\u001b[39m)\n\u001b[0;32m      8\u001b[0m \u001b[38;5;66;03m#Insert data\u001b[39;00m\n\u001b[1;32m----> 9\u001b[0m inser_data(\u001b[43mconn\u001b[49m, insert_query, employee_data)\n",
      "\u001b[1;31mNameError\u001b[0m: name 'conn' is not defined"
     ]
    }
   ],
   "source": [
    "insert_query = '''\n",
    "INSERT INTO employee(name, position, start_date)\n",
    "VALUES(Langat Kevin, Junior Data Analyst, 01/10/2023)\n",
    "\n",
    "'''\n",
    "employee_data = (\"Langat Kevin\", \"Data Engineer\", \"2022-09-19\")\n",
    "\n",
    "#Insert data\n",
    "inser_data(conn, insert_query, employee_data)"
   ]
  },
  {
   "cell_type": "code",
   "execution_count": null,
   "metadata": {},
   "outputs": [
    {
     "ename": "NameError",
     "evalue": "name 'conn' is not defined",
     "output_type": "error",
     "traceback": [
      "\u001b[1;31m---------------------------------------------------------------------------\u001b[0m",
      "\u001b[1;31mNameError\u001b[0m                                 Traceback (most recent call last)",
      "Cell \u001b[1;32mIn[9], line 3\u001b[0m\n\u001b[0;32m      1\u001b[0m query \u001b[38;5;241m=\u001b[39m \u001b[38;5;124m\"\u001b[39m\u001b[38;5;124mSELECT * FROM employee;\u001b[39m\u001b[38;5;124m\"\u001b[39m\n\u001b[1;32m----> 3\u001b[0m employees \u001b[38;5;241m=\u001b[39m query_data(\u001b[43mconn\u001b[49m, query)\n\u001b[0;32m      4\u001b[0m \u001b[38;5;28;01mfor\u001b[39;00m employee \u001b[38;5;129;01min\u001b[39;00m employees:\n\u001b[0;32m      5\u001b[0m     \u001b[38;5;28mprint\u001b[39m(employee)\n",
      "\u001b[1;31mNameError\u001b[0m: name 'conn' is not defined"
     ]
    }
   ],
   "source": [
    "query = \"SELECT * FROM employee;\"\n",
    "\n",
    "employees = query_data(conn, query)\n",
    "for employee in employees:\n",
    "    print(employee)\n",
    "\n",
    "conn.close"
   ]
  },
  {
   "cell_type": "markdown",
   "metadata": {},
   "source": [
    "## To fix errors"
   ]
  },
  {
   "cell_type": "code",
   "execution_count": null,
   "metadata": {},
   "outputs": [],
   "source": []
  }
 ],
 "metadata": {
  "kernelspec": {
   "display_name": "Python 3",
   "language": "python",
   "name": "python3"
  },
  "language_info": {
   "codemirror_mode": {
    "name": "ipython",
    "version": 3
   },
   "file_extension": ".py",
   "mimetype": "text/x-python",
   "name": "python",
   "nbconvert_exporter": "python",
   "pygments_lexer": "ipython3",
   "version": "3.11.5"
  }
 },
 "nbformat": 4,
 "nbformat_minor": 2
}
