{
 "cells": [
  {
   "cell_type": "code",
   "execution_count": 1,
   "metadata": {},
   "outputs": [
    {
     "name": "stdout",
     "output_type": "stream",
     "text": [
      "Requirement already satisfied: mysql-connector-python in c:\\users\\langat kevin\\appdata\\local\\programs\\python\\python311\\lib\\site-packages (8.3.0)\n",
      "Note: you may need to restart the kernel to use updated packages.\n",
      "Requirement already satisfied: mysql-connector-python in c:\\users\\langat kevin\\appdata\\local\\programs\\python\\python311\\lib\\site-packages (8.3.0)Note: you may need to restart the kernel to use updated packages.\n",
      "\n",
      "Requirement already satisfied: mysql-connector-python-rf in c:\\users\\langat kevin\\appdata\\local\\programs\\python\\python311\\lib\\site-packages (2.2.2)\n",
      "Note: you may need to restart the kernel to use updated packages.\n"
     ]
    }
   ],
   "source": [
    "%pip install mysql-connector-python\n",
    "%pip install --upgrade mysql-connector-python\n",
    "%pip install mysql-connector-python-rf"
   ]
  },
  {
   "cell_type": "markdown",
   "metadata": {},
   "source": [
    "## Connect to MySQL using mysql.connector"
   ]
  },
  {
   "cell_type": "code",
   "execution_count": 4,
   "metadata": {},
   "outputs": [],
   "source": [
    "import mysql.connector\n",
    "\n",
    "db = mysql.connector.connect(\n",
    "    host=\"localhost\",\n",
    "    user=\"root\",\n",
    "    passwd=\"mypass\",\n",
    "    auth_plugin='mysql_native_password',\n",
    "    database = \"testdatabase\"\n",
    ")\n",
    "\n",
    "my_cursor = db.cursor()"
   ]
  },
  {
   "cell_type": "markdown",
   "metadata": {},
   "source": [
    "## Creating a table"
   ]
  },
  {
   "cell_type": "code",
   "execution_count": 5,
   "metadata": {},
   "outputs": [],
   "source": [
    "my_cursor.execute(\"CREATE TABLE Person(name VARCHAR(50), age smallint UNSIGNED , PersonId int PRIMARY KEY AUTO_INCREMENT)\")"
   ]
  },
  {
   "cell_type": "markdown",
   "metadata": {},
   "source": [
    "## Check whether the table is created"
   ]
  },
  {
   "cell_type": "code",
   "execution_count": 6,
   "metadata": {},
   "outputs": [
    {
     "name": "stdout",
     "output_type": "stream",
     "text": [
      "('name', b'varchar(50)', 'YES', bytearray(b''), None, '')\n",
      "('age', b'smallint unsigned', 'YES', bytearray(b''), None, '')\n",
      "('PersonId', b'int', 'NO', bytearray(b'PRI'), None, 'auto_increment')\n"
     ]
    }
   ],
   "source": [
    "my_cursor.execute(\"DESCRIBE Person\")\n",
    "\n",
    "for x in my_cursor:\n",
    "    print(x)"
   ]
  },
  {
   "cell_type": "markdown",
   "metadata": {},
   "source": [
    "## Insert values to the table"
   ]
  },
  {
   "cell_type": "code",
   "execution_count": 14,
   "metadata": {},
   "outputs": [],
   "source": [
    "my_cursor.execute(\"INSERT INTO Person (name, age) VALUES (%s,%s)\", (\"Jane\", 45))\n",
    "db.commit()"
   ]
  },
  {
   "cell_type": "markdown",
   "metadata": {},
   "source": [
    "## SELECT Command"
   ]
  },
  {
   "cell_type": "code",
   "execution_count": 16,
   "metadata": {},
   "outputs": [
    {
     "name": "stdout",
     "output_type": "stream",
     "text": [
      "('Joey', 55, 4)\n",
      "('Carol', 56, 5)\n"
     ]
    }
   ],
   "source": [
    "my_cursor.execute(\"SELECT * FROM Person WHERE age > 50\")\n",
    "\n",
    "for x in my_cursor:\n",
    "    print(x)"
   ]
  },
  {
   "cell_type": "markdown",
   "metadata": {},
   "source": [
    "## Modify Table"
   ]
  },
  {
   "cell_type": "code",
   "execution_count": 17,
   "metadata": {},
   "outputs": [
    {
     "name": "stdout",
     "output_type": "stream",
     "text": [
      "('name', b'varchar(50)', 'YES', bytearray(b''), None, '')\n",
      "('age', b'smallint unsigned', 'YES', bytearray(b''), None, '')\n",
      "('PersonId', b'int', 'NO', bytearray(b'PRI'), None, 'auto_increment')\n",
      "('food', b'varchar(50)', 'NO', bytearray(b''), None, '')\n"
     ]
    }
   ],
   "source": [
    "my_cursor.execute(\"ALTER TABLE Person ADD COLUMN food VARCHAR(50) NOT NULL\")\n",
    "\n",
    "my_cursor.execute(\"DESCRIBE Person\")\n",
    "for x in my_cursor:\n",
    "    print(x)\n"
   ]
  },
  {
   "cell_type": "markdown",
   "metadata": {},
   "source": [
    "## Change Column name"
   ]
  },
  {
   "cell_type": "code",
   "execution_count": 18,
   "metadata": {},
   "outputs": [
    {
     "name": "stdout",
     "output_type": "stream",
     "text": [
      "('name', b'varchar(50)', 'YES', bytearray(b''), None, '')\n",
      "('age', b'smallint unsigned', 'YES', bytearray(b''), None, '')\n",
      "('PersonId', b'int', 'NO', bytearray(b'PRI'), None, 'auto_increment')\n",
      "('car', b'varchar(50)', 'NO', bytearray(b''), None, '')\n"
     ]
    }
   ],
   "source": [
    "my_cursor.execute(\"ALTER TABLE Person CHANGE food car VARCHAR(50) NOT NULL\")\n",
    "\n",
    "my_cursor.execute(\"DESCRIBE Person\")\n",
    "for x in my_cursor:\n",
    "    print(x)"
   ]
  },
  {
   "cell_type": "markdown",
   "metadata": {},
   "source": [
    "## Foreign Keys $ Relating Tables"
   ]
  },
  {
   "cell_type": "code",
   "execution_count": null,
   "metadata": {},
   "outputs": [],
   "source": []
  }
 ],
 "metadata": {
  "kernelspec": {
   "display_name": "Python 3",
   "language": "python",
   "name": "python3"
  },
  "language_info": {
   "codemirror_mode": {
    "name": "ipython",
    "version": 3
   },
   "file_extension": ".py",
   "mimetype": "text/x-python",
   "name": "python",
   "nbconvert_exporter": "python",
   "pygments_lexer": "ipython3",
   "version": "3.11.5"
  }
 },
 "nbformat": 4,
 "nbformat_minor": 2
}
